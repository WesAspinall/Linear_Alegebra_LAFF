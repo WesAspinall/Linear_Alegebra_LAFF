{
 "cells": [
  {
   "cell_type": "markdown",
   "metadata": {},
   "source": [
    "### Function Definitions"
   ]
  },
  {
   "cell_type": "markdown",
   "metadata": {
    "vscode": {
     "languageId": "latex"
    }
   },
   "source": [
    "### 1.3.2.1\n",
    "$$\n",
    "\\begin{pmatrix} -1 \\\\ 2 \\end{pmatrix} + \\begin{pmatrix} -3 \\\\ -2 \\end{pmatrix} =\n",
    "$$\n"
   ]
  },
  {
   "cell_type": "code",
   "execution_count": 6,
   "metadata": {},
   "outputs": [
    {
     "name": "stdout",
     "output_type": "stream",
     "text": [
      "[-4, 0]\n"
     ]
    }
   ],
   "source": [
    "v1 = [-1, 2]\n",
    "v2 = [-3, -2]\n",
    "\n",
    "answer = [v1[i] + v2[i] for i in range(len(v1))]\n",
    "print(answer)"
   ]
  },
  {
   "cell_type": "markdown",
   "metadata": {},
   "source": [
    "### 1.3.2.2\n",
    "$$\n",
    "\\begin{pmatrix} -3 \\\\ -2 \\end{pmatrix} + \\begin{pmatrix} -1 \\\\ 2 \\end{pmatrix} =\n",
    "$$"
   ]
  },
  {
   "cell_type": "code",
   "execution_count": 7,
   "metadata": {},
   "outputs": [
    {
     "name": "stdout",
     "output_type": "stream",
     "text": [
      "[-4, 0]\n"
     ]
    }
   ],
   "source": [
    "v1 = [-3, -2]\n",
    "v2 = [-1, 2]\n",
    "\n",
    "answer = [v1[i] + v2[i] for i in range(len(v1))]\n",
    "print(answer)"
   ]
  },
  {
   "cell_type": "markdown",
   "metadata": {},
   "source": [
    "### 1.3.2.5\n",
    "$$\n",
    "\\begin{pmatrix} \n",
    "    -1 \\\\  2 \n",
    "\\end{pmatrix} \n",
    "+ \n",
    "\\begin{pmatrix} \n",
    "\\begin{pmatrix} \n",
    "    -3 \\\\ -2 \n",
    "\\end{pmatrix}\n",
    "+\n",
    "\\begin{pmatrix} \n",
    "    1 \\\\ 2 \n",
    "\\end{pmatrix} \n",
    "\\end{pmatrix} =\n",
    "$$"
   ]
  },
  {
   "cell_type": "code",
   "execution_count": 10,
   "metadata": {},
   "outputs": [
    {
     "name": "stdout",
     "output_type": "stream",
     "text": [
      "[-3, 2]\n"
     ]
    }
   ],
   "source": [
    "v1 = [[-3,-2], [1,2]]\n",
    "v2 = [-1,2]\n",
    "\n",
    "v1_computed = []\n",
    "for i in range(len(v1)-1):\n",
    "    for j in range(len(v1[i])):\n",
    "        v1_computed.append(v1[i][j] + v1[i+1][j])\n",
    "        \n",
    "answer = [v1_computed[i] + v2[i] for i in range(len(v1_computed))]\n",
    "print(answer)"
   ]
  },
  {
   "cell_type": "markdown",
   "metadata": {},
   "source": [
    "### 1.3.2.7\n",
    "$$\n",
    "\\begin{pmatrix} -1 \\\\ 2 \\end{pmatrix} + \\begin{pmatrix} 0 \\\\ 0 \\end{pmatrix} =\n",
    "$$"
   ]
  },
  {
   "cell_type": "code",
   "execution_count": 12,
   "metadata": {},
   "outputs": [
    {
     "name": "stdout",
     "output_type": "stream",
     "text": [
      "[-1, 2]\n"
     ]
    }
   ],
   "source": [
    "v1 = [-1, 2]\n",
    "v2 = [0, 0]\n",
    "\n",
    "answer = [v1[i] + v2[i] for i in range(len(v1))]\n",
    "print(answer)"
   ]
  }
 ],
 "metadata": {
  "kernelspec": {
   "display_name": "env",
   "language": "python",
   "name": "python3"
  },
  "language_info": {
   "codemirror_mode": {
    "name": "ipython",
    "version": 3
   },
   "file_extension": ".py",
   "mimetype": "text/x-python",
   "name": "python",
   "nbconvert_exporter": "python",
   "pygments_lexer": "ipython3",
   "version": "3.11.7"
  }
 },
 "nbformat": 4,
 "nbformat_minor": 2
}

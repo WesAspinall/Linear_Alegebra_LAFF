{
 "cells": [
  {
   "cell_type": "markdown",
   "metadata": {},
   "source": [
    "### 1.4.2 Linear Combinations of Vectors"
   ]
  },
  {
   "cell_type": "markdown",
   "metadata": {},
   "source": [
    "**Homework 1.4.2.1**"
   ]
  },
  {
   "cell_type": "markdown",
   "metadata": {},
   "source": [
    "$$\n",
    "3\n",
    "\\begin{pmatrix}\n",
    "2\\\\4\\\\-1\\\\0\n",
    "\\end{pmatrix}\n",
    "+\n",
    "2\n",
    "\\begin{pmatrix}\n",
    "1\\\\0\\\\1\\\\0\n",
    "\\end{pmatrix}\n",
    "=\n",
    "$$"
   ]
  },
  {
   "cell_type": "markdown",
   "metadata": {},
   "source": [
    "*First, declare functions*"
   ]
  },
  {
   "cell_type": "code",
   "execution_count": 2,
   "metadata": {},
   "outputs": [],
   "source": [
    "def scale_vector(vector, mult) -> list:\n",
    "    scaled_vector = list(map(lambda x: x*mult, vector))\n",
    "    return scaled_vector\n",
    "\n",
    "def add_vectors(v1, v2) -> list:\n",
    "    combined_vector = [v1[i]+v2[i] for i in range(len(v1))]\n",
    "    return combined_vector"
   ]
  },
  {
   "cell_type": "code",
   "execution_count": 3,
   "metadata": {},
   "outputs": [
    {
     "name": "stdout",
     "output_type": "stream",
     "text": [
      "[8, 12, -1, 0]\n"
     ]
    }
   ],
   "source": [
    "v1_scaled = scale_vector([2,4,-1,0],3)\n",
    "v2_scaled = scale_vector([1,0,1,0],2)\n",
    "\n",
    "answer = add_vectors(v1_scaled, v2_scaled)\n",
    "\n",
    "print(answer)"
   ]
  },
  {
   "cell_type": "markdown",
   "metadata": {},
   "source": [
    "**Homework 1.4.2.2**\n",
    "\n",
    "$$\n",
    "(-3)\n",
    "\\begin{pmatrix}\n",
    "1\\\\0\\\\0\n",
    "\\end{pmatrix}\n",
    "+\n",
    "2\n",
    "\\begin{pmatrix}\n",
    "0\\\\1\\\\0\n",
    "\\end{pmatrix}\n",
    "+\n",
    "4\n",
    "\\begin{pmatrix}\n",
    "0\\\\0\\\\1\n",
    "\\end{pmatrix}\n",
    "=\n",
    "$$"
   ]
  },
  {
   "cell_type": "code",
   "execution_count": 4,
   "metadata": {},
   "outputs": [
    {
     "name": "stdout",
     "output_type": "stream",
     "text": [
      "[-3, 2, 4]\n"
     ]
    }
   ],
   "source": [
    "v3_scaled = scale_vector([1,0,0],-3)\n",
    "v4_scaled = scale_vector([0,1,0],2)\n",
    "v5_scaled = scale_vector([0,0,1],4)\n",
    "\n",
    "v6 = add_vectors(v3_scaled, v4_scaled)\n",
    "\n",
    "answer = add_vectors(v5_scaled, v6)\n",
    "\n",
    "print(answer)"
   ]
  },
  {
   "cell_type": "markdown",
   "metadata": {},
   "source": [
    "todo: 1.4.2.3"
   ]
  }
 ],
 "metadata": {
  "kernelspec": {
   "display_name": "env",
   "language": "python",
   "name": "python3"
  },
  "language_info": {
   "codemirror_mode": {
    "name": "ipython",
    "version": 3
   },
   "file_extension": ".py",
   "mimetype": "text/x-python",
   "name": "python",
   "nbconvert_exporter": "python",
   "pygments_lexer": "ipython3",
   "version": "3.11.7"
  }
 },
 "nbformat": 4,
 "nbformat_minor": 2
}

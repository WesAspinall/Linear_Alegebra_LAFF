{
 "cells": [
  {
   "cell_type": "markdown",
   "metadata": {},
   "source": [
    "### 1.4.4 Vector Length (norm2)"
   ]
  },
  {
   "cell_type": "markdown",
   "metadata": {},
   "source": [
    "The (Euclidean) length of a vector x (the two-norm) is given by\n",
    "\n",
    "$\\sqrt{\\sum_{i=0}^{n-1} x_i^2}$\n"
   ]
  },
  {
   "cell_type": "markdown",
   "metadata": {},
   "source": [
    "Compute the lengths \n",
    "\n",
    "(a)\n",
    "$$\n",
    "\\begin{pmatrix}\n",
    "0\\\\0\\\\0\n",
    "\\end{pmatrix}\n",
    "$$\n",
    "\n",
    "(b)\n",
    "$$\n",
    "\\begin{pmatrix}\n",
    "1/2\\\\1/2\\\\1/2\\\\1/2\n",
    "\\end{pmatrix}\n",
    "$$\n",
    "\n",
    "(c)\n",
    "$$\n",
    "\\begin{pmatrix}\n",
    "1\\\\-2\\\\2\n",
    "\\end{pmatrix}\n",
    "$$\n",
    "\n",
    "(d)\n",
    "$$\n",
    "\\begin{pmatrix}\n",
    "0\\\\0\\\\1\\\\0\\\\0\\\\0\n",
    "\\end{pmatrix}\n",
    "$$\n",
    "\n"
   ]
  },
  {
   "cell_type": "code",
   "execution_count": 4,
   "metadata": {},
   "outputs": [
    {
     "name": "stdout",
     "output_type": "stream",
     "text": [
      "v1_length: 0\n",
      "v2_length: 1\n",
      "v3_length: 3\n",
      "v4_length: 1\n"
     ]
    }
   ],
   "source": [
    "import math\n",
    "\n",
    "def get_length(vector):\n",
    "    a = 0\n",
    "    for i in range(len(vector)):\n",
    "        a += vector[i]**2\n",
    "    \n",
    "    a = int(math.sqrt(a))\n",
    "    return a \n",
    "\n",
    "v1 = [0,0,0,0]\n",
    "v2 = [1/2, 1/2, 1/2, 1/2]\n",
    "v3 = [1, -2, 2]\n",
    "v4 = [0,0,1,0,0,0]\n",
    "\n",
    "v1_length = get_length(v1)\n",
    "v2_length = get_length(v2)\n",
    "v3_length = get_length(v3)\n",
    "v4_length = get_length(v4)\n",
    "\n",
    "print(f\"v1_length: {v1_length}\")\n",
    "print(f\"v2_length: {v2_length}\")\n",
    "print(f\"v3_length: {v3_length}\")\n",
    "print(f\"v4_length: {v4_length}\")"
   ]
  }
 ],
 "metadata": {
  "kernelspec": {
   "display_name": "env",
   "language": "python",
   "name": "python3"
  },
  "language_info": {
   "codemirror_mode": {
    "name": "ipython",
    "version": 3
   },
   "file_extension": ".py",
   "mimetype": "text/x-python",
   "name": "python",
   "nbconvert_exporter": "python",
   "pygments_lexer": "ipython3",
   "version": "3.11.7"
  }
 },
 "nbformat": 4,
 "nbformat_minor": 2
}

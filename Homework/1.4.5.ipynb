{
 "cells": [
  {
   "cell_type": "markdown",
   "metadata": {},
   "source": [
    "### 1.4.5 Vector Functions\n"
   ]
  },
  {
   "cell_type": "markdown",
   "metadata": {},
   "source": [
    "Notes:\n",
    "Vector Function = Takes one or more scalars and/or vectors as inputs and returns a vector as an output\n",
    "\n",
    "$$\n",
    "{f}(\\alpha,\\beta) = \n",
    "\\begin{pmatrix}\n",
    "    \\alpha + \\beta \\\\\n",
    "    \\alpha - \\beta\n",
    "\\end{pmatrix}\n",
    "$$\n",
    "\n",
    "Example 1:\n",
    "\n",
    "$$\n",
    "{f}(-2, 1) = \n",
    "\\begin{pmatrix}\n",
    "    -2 + 1 \\\\\n",
    "    -2 - 1\n",
    "\\end{pmatrix}\n",
    "=\n",
    "\\begin{pmatrix}\n",
    "    -1 \\\\\n",
    "    -3\n",
    "\\end{pmatrix}\n",
    "$$\n",
    "\n",
    "Example 2:\n",
    "$$\n",
    "{f}(\\alpha,\n",
    "\\begin{pmatrix}\n",
    "\\chi_0 \\\\ \\chi_1 \\\\ \\chi_2\n",
    "\\end{pmatrix}\n",
    ")\n",
    "= \n",
    "\\begin{pmatrix}\n",
    "  \\chi_0 + \\alpha \\\\ \n",
    "  \\chi_1 + \\alpha \\\\\n",
    "  \\chi_2 + \\alpha\n",
    "\\end{pmatrix}\n",
    "$$\n",
    "\n",
    "$$\n",
    "{f}(-2,\n",
    "\\begin{pmatrix}\n",
    "1 \\\\ 2 \\\\ 3\n",
    "\\end{pmatrix}\n",
    ")\n",
    "= \n",
    "\\begin{pmatrix}\n",
    "  1 + (-2) \\\\ \n",
    "  2 + (-2) \\\\\n",
    "  3 + (-2)\n",
    "\\end{pmatrix}\n",
    "=\n",
    "\\begin{pmatrix}\n",
    "\n",
    " -1 \\\\ \n",
    "  0 \\\\\n",
    "  1\n",
    "\n",
    "\\end{pmatrix}\n",
    "$$\n",
    "\n",
    "\n"
   ]
  },
  {
   "cell_type": "code",
   "execution_count": 1,
   "metadata": {},
   "outputs": [],
   "source": [
    "def vector_func(arg1, arg2):\n",
    "    if (type(arg1) == int and type(arg2) == list):\n",
    "        vector_result = [arg2[i] + arg1 for i in range(len(arg2))]\n",
    "    return vector_result"
   ]
  },
  {
   "cell_type": "markdown",
   "metadata": {},
   "source": [
    "Homework 1.4.5.1"
   ]
  },
  {
   "cell_type": "code",
   "execution_count": 4,
   "metadata": {},
   "outputs": [
    {
     "name": "stdout",
     "output_type": "stream",
     "text": [
      "[7, 3, 4]\n",
      "[1, 1, 1]\n",
      "[1, 2, 3]\n"
     ]
    }
   ],
   "source": [
    "vector = vector_func(arg1 = 1, arg2=[6,2,3])\n",
    "vector_2 = vector_func(arg1 = 1, arg2=[0,0,0])\n",
    "vector_3 = vector_func(arg1 = 0, arg2=[1,2,3])\n",
    "\n",
    "print(vector)\n",
    "print(vector_2)\n",
    "print(vector_3)"
   ]
  },
  {
   "cell_type": "markdown",
   "metadata": {},
   "source": []
  },
  {
   "cell_type": "code",
   "execution_count": null,
   "metadata": {},
   "outputs": [],
   "source": []
  }
 ],
 "metadata": {
  "kernelspec": {
   "display_name": "env",
   "language": "python",
   "name": "python3"
  },
  "language_info": {
   "codemirror_mode": {
    "name": "ipython",
    "version": 3
   },
   "file_extension": ".py",
   "mimetype": "text/x-python",
   "name": "python",
   "nbconvert_exporter": "python",
   "pygments_lexer": "ipython3",
   "version": "3.11.7"
  }
 },
 "nbformat": 4,
 "nbformat_minor": 2
}

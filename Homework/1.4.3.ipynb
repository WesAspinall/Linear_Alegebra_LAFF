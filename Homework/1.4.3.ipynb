{
 "cells": [
  {
   "cell_type": "markdown",
   "metadata": {},
   "source": [
    "### 1.4.3 Dot or Inner Product (DOT)"
   ]
  },
  {
   "cell_type": "markdown",
   "metadata": {},
   "source": [
    "1.4.3.1\n",
    "\n",
    "$$\n",
    "\\begin{pmatrix}\n",
    "2\\\\5\\\\-6\\\\1\n",
    "\\end{pmatrix}\n",
    "^{T}\n",
    "\\begin{pmatrix}\n",
    "1\\\\1\\\\1\\\\1\\\\1\\\\1\n",
    "\\end{pmatrix}\n",
    "$$"
   ]
  },
  {
   "cell_type": "code",
   "execution_count": 3,
   "metadata": {},
   "outputs": [
    {
     "name": "stdout",
     "output_type": "stream",
     "text": [
      "Can't be done\n"
     ]
    }
   ],
   "source": [
    "def transpose(v1, v2):\n",
    "    if len(v1) == len(v2):\n",
    "        a = 0\n",
    "        for i in range(len(v1)):\n",
    "            a += v1[i]*v2[i]\n",
    "        return a\n",
    "    \n",
    "    return \"Can't be done\"\n",
    "\n",
    "v1 = [2,5,-6,1]\n",
    "v2 = [1,1,1,1,1]\n",
    "\n",
    "answer = transpose(v1, v2)\n",
    "\n",
    "print(answer)"
   ]
  },
  {
   "cell_type": "markdown",
   "metadata": {},
   "source": [
    "1.4.3.2\n",
    "\n",
    "$$\n",
    "\\begin{pmatrix}\n",
    "2\\\\5\\\\-6\\\\1\n",
    "\\end{pmatrix}\n",
    "^{T}\n",
    "\\begin{pmatrix}\n",
    "1\\\\1\\\\1\\\\1\n",
    "\\end{pmatrix}\n",
    "$$"
   ]
  },
  {
   "cell_type": "code",
   "execution_count": 4,
   "metadata": {},
   "outputs": [
    {
     "name": "stdout",
     "output_type": "stream",
     "text": [
      "2\n"
     ]
    }
   ],
   "source": [
    "v1 = [2,5,-6,1]\n",
    "v2 = [1,1,1,1]\n",
    "\n",
    "answer = transpose(v1, v2)\n",
    "\n",
    "print(answer)"
   ]
  },
  {
   "cell_type": "markdown",
   "metadata": {},
   "source": [
    "1.4.3.3\n",
    "\n",
    "$$\n",
    "\\begin{pmatrix}\n",
    "1\\\\1\\\\1\\\\1\n",
    "\\end{pmatrix}\n",
    "^{T}\n",
    "\\begin{pmatrix}\n",
    "2\\\\5\\\\-6\\\\1\n",
    "\\end{pmatrix}\n",
    "$$"
   ]
  },
  {
   "cell_type": "code",
   "execution_count": 5,
   "metadata": {},
   "outputs": [
    {
     "name": "stdout",
     "output_type": "stream",
     "text": [
      "2\n"
     ]
    }
   ],
   "source": [
    "v1 = [1,1,1,1]\n",
    "v2 = [2,5,-6,1]\n",
    "\n",
    "answer = transpose(v1, v2)\n",
    "\n",
    "print(answer)"
   ]
  },
  {
   "cell_type": "markdown",
   "metadata": {},
   "source": [
    "1.4.3.5\n",
    "\n",
    "$$\n",
    "\\begin{pmatrix}\n",
    "1\\\\1\\\\1\\\\1\n",
    "\\end{pmatrix}\n",
    "^{T}\n",
    "\\begin{pmatrix}\n",
    "\\begin{pmatrix}\n",
    "2\\\\5\\\\-6\\\\1\n",
    "\\end{pmatrix}\n",
    "+\n",
    "\\begin{pmatrix}\n",
    "1\\\\2\\\\3\\\\4\n",
    "\\end{pmatrix}\n",
    "\\end{pmatrix}\n",
    "=\n",
    "$$"
   ]
  },
  {
   "cell_type": "code",
   "execution_count": 10,
   "metadata": {},
   "outputs": [
    {
     "name": "stdout",
     "output_type": "stream",
     "text": [
      "12\n"
     ]
    }
   ],
   "source": [
    "v1 = [1,1,1,1]\n",
    "v2 = [2,5,-6,1]\n",
    "v3 = [1,2,3,4]\n",
    "\n",
    "def add_vectors(v1, v2):\n",
    "    if type(v1) == list and type(v2) == list:\n",
    "        if len(v1) == len(v2):\n",
    "            result = [v1[i] + v2[i] for i in range(len(v1))]\n",
    "            return result\n",
    "    return \"Can't be done\"\n",
    "\n",
    "answer = transpose(v1, add_vectors(v2, v3))\n",
    "\n",
    "print(answer)\n",
    "            "
   ]
  },
  {
   "cell_type": "markdown",
   "metadata": {},
   "source": [
    "1.4.3.6\n",
    "\n",
    "$$\n",
    "\\begin{pmatrix}\n",
    "1\\\\1\\\\1\\\\1\n",
    "\\end{pmatrix}\n",
    "^{T}\n",
    "\\begin{pmatrix}\n",
    "2\\\\5\\\\-6\\\\1\n",
    "\\end{pmatrix}\n",
    "+\n",
    "\\begin{pmatrix}\n",
    "1\\\\1\\\\1\\\\1\n",
    "\\end{pmatrix}\n",
    "^{T}\n",
    "\\begin{pmatrix}\n",
    "1\\\\2\\\\3\\\\4\n",
    "\\end{pmatrix}\n",
    "=\n",
    "$$"
   ]
  },
  {
   "cell_type": "code",
   "execution_count": 13,
   "metadata": {},
   "outputs": [
    {
     "name": "stdout",
     "output_type": "stream",
     "text": [
      "12\n"
     ]
    }
   ],
   "source": [
    "v1 = [1,1,1,1]\n",
    "v2 = [2,5,-6,1]\n",
    "v3 = [1,1,1,1]\n",
    "v4 = [1,2,3,4]\n",
    "\n",
    "answer = transpose(v1, v2) + transpose(v3, v4)\n",
    "print(answer)"
   ]
  },
  {
   "cell_type": "markdown",
   "metadata": {},
   "source": [
    "1.4.3.7\n",
    "\n",
    "$$\n",
    "\\begin{pmatrix}\n",
    "\\begin{pmatrix}\n",
    "2\\\\5\\\\-6\\\\1\n",
    "\\end{pmatrix}\n",
    "+\n",
    "\\begin{pmatrix}\n",
    "1\\\\2\\\\3\\\\4\n",
    "\\end{pmatrix}\n",
    "\\end{pmatrix}\n",
    "^{T}\n",
    "\\begin{pmatrix}\n",
    "1\\\\0\\\\0\\\\2\n",
    "\\end{pmatrix}\n",
    "=\n",
    "$$"
   ]
  },
  {
   "cell_type": "code",
   "execution_count": 14,
   "metadata": {},
   "outputs": [
    {
     "name": "stdout",
     "output_type": "stream",
     "text": [
      "13\n"
     ]
    }
   ],
   "source": [
    "v1 = [2,5,-6,1]\n",
    "v2 = [1,2,3,4]\n",
    "v3 = [1,0,0,2]\n",
    "\n",
    "answer = transpose(add_vectors(v1, v2), v3)\n",
    "\n",
    "print(answer)"
   ]
  }
 ],
 "metadata": {
  "kernelspec": {
   "display_name": "env",
   "language": "python",
   "name": "python3"
  },
  "language_info": {
   "codemirror_mode": {
    "name": "ipython",
    "version": 3
   },
   "file_extension": ".py",
   "mimetype": "text/x-python",
   "name": "python",
   "nbconvert_exporter": "python",
   "pygments_lexer": "ipython3",
   "version": "3.11.7"
  }
 },
 "nbformat": 4,
 "nbformat_minor": 2
}

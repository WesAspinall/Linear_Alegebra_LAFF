{
 "cells": [
  {
   "cell_type": "markdown",
   "metadata": {},
   "source": [
    "Decide if the two vectors are equal.\n",
    "\n",
    "**Question 1**\n",
    "\n",
    "The vector represented geometrically in `R^2` by an arrow from point `(-1, 2)` to point `(0,0)` and the vector represented geometrically in `R^2` by an arrow from point `(1, -2)` to point `(2,-1)` are equal."
   ]
  },
  {
   "cell_type": "code",
   "execution_count": 27,
   "metadata": {},
   "outputs": [],
   "source": [
    "def resulting_vector(p1: list, p2: list) -> list:\n",
    "    \"\"\" \n",
    "        Compute the resulting vector given coordinates\n",
    "    \"\"\"\n",
    "    if len(p1) == len(p2):\n",
    "        result = []\n",
    "        for i in range(len(p1)):\n",
    "            result.append(p2[i] - p1[i])\n",
    "        \n",
    "        return result\n",
    "    \n",
    "    else:\n",
    "        return \"The coordinates are not of the same dimension\"\n",
    "    \n",
    "\n",
    "def is_equal(v1: list, v2: list) -> str:\n",
    "    \"\"\"Checks if two vectors are equal\"\"\"\n",
    "    result = False\n",
    "    if(v1 == v2):\n",
    "        result = True\n",
    "    return result"
   ]
  },
  {
   "cell_type": "code",
   "execution_count": 29,
   "metadata": {},
   "outputs": [
    {
     "name": "stdout",
     "output_type": "stream",
     "text": [
      "False\n"
     ]
    }
   ],
   "source": [
    "p_1 = [-1,2]\n",
    "p_2 = [0, 0]\n",
    "\n",
    "p_3 = [1,-2]\n",
    "p_4 = [2,-1]\n",
    "\n",
    "resulting_vector_1 = resulting_vector(p_1, p_2)\n",
    "resulting_vector_2 = resulting_vector(p_3, p_4)\n",
    "\n",
    "print(is_equal(resulting_vector_1, resulting_vector_2))"
   ]
  },
  {
   "cell_type": "markdown",
   "metadata": {},
   "source": [
    "<hr>"
   ]
  },
  {
   "cell_type": "markdown",
   "metadata": {},
   "source": [
    "**Question 2**\n",
    "\n",
    "The vector represented geometrically in `R^3` by an arrow from point `(1,-1, 2)` to point `(0,0,0)` and the vector represented geometrically in `R^3` by an arrow from point `(1,1, -2)` to point `(0,2,-4)` are equal."
   ]
  },
  {
   "cell_type": "markdown",
   "metadata": {
    "vscode": {
     "languageId": "latex"
    }
   },
   "source": [
    "**Get resulting Vector given two points on a 3D plane**"
   ]
  },
  {
   "cell_type": "code",
   "execution_count": 30,
   "metadata": {},
   "outputs": [
    {
     "name": "stdout",
     "output_type": "stream",
     "text": [
      "True\n"
     ]
    }
   ],
   "source": [
    "p_1 = [1,-1,2]\n",
    "p_2 = [0, 0, 0]\n",
    "\n",
    "p_3 = [1,1,-2]\n",
    "p_4 = [0, 2, -4]\n",
    "\n",
    "resulting_vector_1 = resulting_vector(p_1, p_2)\n",
    "resulting_vector_2 = resulting_vector(p_3, p_4)\n",
    "\n",
    "print(is_equal(resulting_vector_1, resulting_vector_2))"
   ]
  }
 ],
 "metadata": {
  "kernelspec": {
   "display_name": "env",
   "language": "python",
   "name": "python3"
  },
  "language_info": {
   "codemirror_mode": {
    "name": "ipython",
    "version": 3
   },
   "file_extension": ".py",
   "mimetype": "text/x-python",
   "name": "python",
   "nbconvert_exporter": "python",
   "pygments_lexer": "ipython3",
   "version": "3.11.7"
  }
 },
 "nbformat": 4,
 "nbformat_minor": 2
}

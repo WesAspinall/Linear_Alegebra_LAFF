{
 "cells": [
  {
   "cell_type": "markdown",
   "metadata": {},
   "source": [
    "Decide if the two vectors are equal.\n",
    "\n",
    "**Question 1**\n",
    "\n",
    "The vector represented geometrically in `R^2` by an arrow from point `(-1, 2)` to point `(0,0)` and the vector represented geometrically in `R^2` by an arrow from point `(1, -2)` to point `(2,-1)` are equal."
   ]
  },
  {
   "cell_type": "code",
   "execution_count": 17,
   "metadata": {},
   "outputs": [
    {
     "name": "stdout",
     "output_type": "stream",
     "text": [
      "Result Vector 1: [1, -2]\n"
     ]
    }
   ],
   "source": [
    "vector_1 = [-1,2]\n",
    "vector_2 = [0, 0]\n",
    "\n",
    "vector_result_1 = []\n",
    "\n",
    "for i in range(len(vector_1)):\n",
    "    vector_result_1.append(vector_2[i] - vector_1[i])\n",
    "    \n",
    "print(f\"Result Vector 1: {vector_result_1}\")"
   ]
  },
  {
   "cell_type": "code",
   "execution_count": 18,
   "metadata": {},
   "outputs": [
    {
     "name": "stdout",
     "output_type": "stream",
     "text": [
      "Result Vector 2: [1, 1]\n"
     ]
    }
   ],
   "source": [
    "vector_3 = [1,-2]\n",
    "vector_4 = [2, -1]\n",
    "\n",
    "vector_result_2 = []\n",
    "\n",
    "for i in range(len(vector_3)):\n",
    "    vector_result_2.append(vector_4[i] - vector_3[i])\n",
    "    \n",
    "print(f\"Result Vector 2: {vector_result_2}\")"
   ]
  },
  {
   "cell_type": "code",
   "execution_count": 19,
   "metadata": {},
   "outputs": [
    {
     "name": "stdout",
     "output_type": "stream",
     "text": [
      "The two vectors are NOT equal\n"
     ]
    }
   ],
   "source": [
    "if (vector_result_1 == vector_result_2):\n",
    "    print(\"The two vectors are equal\")\n",
    "else:\n",
    "    print(\"The two vectors are NOT equal\")"
   ]
  },
  {
   "cell_type": "markdown",
   "metadata": {},
   "source": [
    "<hr>"
   ]
  },
  {
   "cell_type": "markdown",
   "metadata": {},
   "source": [
    "**Question 2**\n",
    "\n",
    "The vector represented geometrically in `R^3` by an arrow from point `(1,-1, 2)` to point `(0,0,0)` and the vector represented geometrically in `R^3` by an arrow from point `(1,1, -2)` to point `(0,2,-4)` are equal."
   ]
  },
  {
   "cell_type": "markdown",
   "metadata": {
    "vscode": {
     "languageId": "latex"
    }
   },
   "source": [
    "**Get resulting Vector given two points on a 3D plane**"
   ]
  },
  {
   "cell_type": "code",
   "execution_count": 13,
   "metadata": {},
   "outputs": [
    {
     "name": "stdout",
     "output_type": "stream",
     "text": [
      "Result Vector 1: [-1, 1, -2]\n"
     ]
    }
   ],
   "source": [
    "v1 = [1,-1,2]\n",
    "v2 = [0, 0, 0]\n",
    "\n",
    "result_1 = []\n",
    "\n",
    "for i in range(len(v1)):\n",
    "    result_1.append(v2[i] - v1[i])\n",
    "    \n",
    "print(f\"Result Vector 1: {result_1}\")"
   ]
  },
  {
   "cell_type": "code",
   "execution_count": 14,
   "metadata": {},
   "outputs": [
    {
     "name": "stdout",
     "output_type": "stream",
     "text": [
      "Result Vector 2: [-1, 1, -2]\n"
     ]
    }
   ],
   "source": [
    "v3 = [1,1,-2]\n",
    "v4 = [0, 2, -4]\n",
    "\n",
    "result_2 = []\n",
    "\n",
    "for i in range(len(v3)):\n",
    "    result_2.append(v4[i] - v3[i])\n",
    "    \n",
    "print(f\"Result Vector 2: {result_2}\")"
   ]
  },
  {
   "cell_type": "markdown",
   "metadata": {},
   "source": [
    "Are the two resulting vectors equal?"
   ]
  },
  {
   "cell_type": "code",
   "execution_count": 15,
   "metadata": {},
   "outputs": [
    {
     "name": "stdout",
     "output_type": "stream",
     "text": [
      "The two vectors are equal\n"
     ]
    }
   ],
   "source": [
    "if (result_1 == result_2):\n",
    "    print(\"The two vectors are equal\")\n",
    "else:\n",
    "    print(\"The two vectors are NOT equal\")"
   ]
  }
 ],
 "metadata": {
  "kernelspec": {
   "display_name": "env",
   "language": "python",
   "name": "python3"
  },
  "language_info": {
   "codemirror_mode": {
    "name": "ipython",
    "version": 3
   },
   "file_extension": ".py",
   "mimetype": "text/x-python",
   "name": "python",
   "nbconvert_exporter": "python",
   "pygments_lexer": "ipython3",
   "version": "3.11.7"
  }
 },
 "nbformat": 4,
 "nbformat_minor": 2
}

{
 "cells": [
  {
   "cell_type": "code",
   "execution_count": 12,
   "metadata": {},
   "outputs": [],
   "source": [
    "import numpy as np\n",
    "import matplotlib.pyplot as plt"
   ]
  },
  {
   "cell_type": "markdown",
   "metadata": {},
   "source": [
    "## 1.3.3 Vector Scaling"
   ]
  },
  {
   "cell_type": "markdown",
   "metadata": {},
   "source": [
    "**Question 1.3.3.1**\n",
    "\n",
    "$$\n",
    "\\begin{pmatrix} \n",
    "\\begin{pmatrix} \n",
    "    -1 \\\\ 2 \n",
    "\\end{pmatrix}\n",
    "+\n",
    "\\begin{pmatrix} \n",
    "    -1 \\\\ 2 \n",
    "\\end{pmatrix} \n",
    "\\end{pmatrix} \n",
    "+\n",
    "\\begin{pmatrix} \n",
    "    -1 \\\\  2 \n",
    "\\end{pmatrix} =\n",
    "$$"
   ]
  },
  {
   "cell_type": "code",
   "execution_count": 5,
   "metadata": {},
   "outputs": [
    {
     "name": "stdout",
     "output_type": "stream",
     "text": [
      "[-3, 6]\n"
     ]
    }
   ],
   "source": [
    "v1 = [[-1,2], [-1,2]]\n",
    "v2 = [-1,2]\n",
    "\n",
    "v1_computed = []\n",
    "\n",
    "for i in range(len(v1) - 1):\n",
    "    for j in range(len(v1[i])):\n",
    "        v1_computed.append(v1[i][j] + v1[i+1][j])\n",
    "        \n",
    "answer = [v1_computed[i] +v2[i] for i in range(len(v1_computed))]        \n",
    "print(answer)"
   ]
  },
  {
   "cell_type": "markdown",
   "metadata": {},
   "source": [
    "**Question 1.3.3.2**\n",
    "$$\n",
    "3\n",
    "\\times\n",
    "\\begin{pmatrix}\n",
    "-1 \\\\ 2\n",
    "\\end{pmatrix}\n",
    "$$"
   ]
  },
  {
   "cell_type": "code",
   "execution_count": 9,
   "metadata": {},
   "outputs": [
    {
     "name": "stdout",
     "output_type": "stream",
     "text": [
      "[-3, 6]\n"
     ]
    }
   ],
   "source": [
    "def mult_by_factor(vector, factor):\n",
    "    return [int(factor * x) for x in vector]\n",
    "\n",
    "factor = 3\n",
    "vector = [-1, 2]\n",
    "\n",
    "answer = mult_by_factor(vector, factor)\n",
    "\n",
    "print(answer)"
   ]
  },
  {
   "cell_type": "markdown",
   "metadata": {},
   "source": [
    "**Question 1.3.3.3**"
   ]
  },
  {
   "cell_type": "code",
   "execution_count": 14,
   "metadata": {},
   "outputs": [
    {
     "name": "stdout",
     "output_type": "stream",
     "text": [
      "[8, 4]\n",
      "[2, 1]\n",
      "[-2, -1]\n"
     ]
    }
   ],
   "source": [
    "a = [4, 2]\n",
    "\n",
    "a_times_2 = mult_by_factor(a, 2)\n",
    "a_times_half = mult_by_factor(a, 1/2)\n",
    "a_times_neg_half = mult_by_factor(a, -(1/2))\n",
    "\n",
    "print(a_times_2)\n",
    "print(a_times_half)\n",
    "print(a_times_neg_half)"
   ]
  },
  {
   "cell_type": "code",
   "execution_count": 19,
   "metadata": {},
   "outputs": [
    {
     "data": {
      "image/png": "[encoded data removed]",
      "text/plain": [
       "<Figure size 640x480 with 1 Axes>"
      ]
     },
     "metadata": {},
     "output_type": "display_data"
    }
   ],
   "source": [
    "# Create Vectors\n",
    "V1 = np.array(a_times_2)\n",
    "V2 = np.array(a_times_half)\n",
    "V3 = np.array(a_times_neg_half)\n",
    "\n",
    "# Create the plot\n",
    "fig, ax = plt.subplots()\n",
    "\n",
    "# Add Vectors to plot via quiver\n",
    "ax.quiver(0, \n",
    "          0, \n",
    "          V1[0], \n",
    "          V1[1], \n",
    "          angles='xy',\n",
    "          label=\"2a\", \n",
    "          scale_units='xy', \n",
    "          scale=1, \n",
    "          color='r')\n",
    "\n",
    "ax.quiver(0, \n",
    "          0, \n",
    "          V2[0], \n",
    "          V2[1], \n",
    "          label='(1/2)a',\n",
    "          angles=\"xy\", \n",
    "          scale_units='xy', \n",
    "          scale=1, \n",
    "          color='b')\n",
    "\n",
    "ax.quiver(0, \n",
    "          0, \n",
    "          V3[0], \n",
    "          V3[1], \n",
    "          label='-(1/2)a',\n",
    "          angles=\"xy\", \n",
    "          scale_units='xy', \n",
    "          scale=1, \n",
    "          color='g')\n",
    "\n",
    "# Set the x-limits and y-limits of the plot\n",
    "ax.set_xlim([-10, 10])\n",
    "ax.set_ylim([-10, 10])\n",
    "\n",
    "# Show the plot along with the grid\n",
    "plt.grid()\n",
    "plt.legend()\n",
    "plt.title('Vector Scaling')\n",
    "plt.show()"
   ]
  }
 ],
 "metadata": {
  "kernelspec": {
   "display_name": "env",
   "language": "python",
   "name": "python3"
  },
  "language_info": {
   "codemirror_mode": {
    "name": "ipython",
    "version": 3
   },
   "file_extension": ".py",
   "mimetype": "text/x-python",
   "name": "python",
   "nbconvert_exporter": "python",
   "pygments_lexer": "ipython3",
   "version": "3.11.7"
  }
 },
 "nbformat": 4,
 "nbformat_minor": 2
}
